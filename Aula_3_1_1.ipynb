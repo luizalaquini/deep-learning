{
  "cells": [
    {
      "cell_type": "markdown",
      "metadata": {
        "id": "vmNGcdgzLQjE"
      },
      "source": [
        "# Pacotes"
      ]
    },
    {
      "cell_type": "markdown",
      "metadata": {
        "id": "elL8AKq7gbjl"
      },
      "source": [
        "TensorFlow: Biblioteca para construir e treinar modelos de aprendizado de máquina.\n",
        "\n",
        "boston_housing: Dataset embutido no Keras contendo informações de preços de casas em Boston.\n",
        "\n",
        "layers, models: Módulos do Keras para definir e estruturar redes neurais.\n",
        "\n",
        "NumPy: Biblioteca para manipulação de arrays e cálculos numéricos.\n",
        "\n",
        "Matplotlib: Biblioteca para visualização e gráficos."
      ]
    },
    {
      "cell_type": "code",
      "execution_count": 1,
      "metadata": {
        "id": "bZN9WSw9K336"
      },
      "outputs": [],
      "source": [
        "import os\n",
        "import random\n",
        "import tensorflow as tf\n",
        "from tensorflow.keras.datasets import boston_housing\n",
        "from tensorflow.keras import layers, models\n",
        "import numpy as np\n",
        "import matplotlib.pyplot as plt\n",
        "\n",
        "# Definir a seed para reprodutibilidade\n",
        "seed = 0\n",
        "np.random.seed(seed)\n",
        "tf.random.set_seed(seed)\n",
        "random.seed(seed)\n",
        "os.environ['PYTHONHASHSEED'] = str(seed)\n",
        "\n",
        "initializer = tf.keras.initializers.GlorotUniform(seed=seed)\n",
        "\n",
        "tf.config.experimental.enable_op_determinism()"
      ]
    },
    {
      "cell_type": "markdown",
      "metadata": {
        "id": "5ES_E1gDMk65"
      },
      "source": [
        "# Importa Dataset Boston Housing"
      ]
    },
    {
      "cell_type": "markdown",
      "metadata": {
        "id": "DaFmFGZEgl4W"
      },
      "source": [
        "boston_housing.load_data(): Divide os dados em conjuntos de treino e teste.\n",
        "Normalização: Reduz as diferenças de escala entre as features, melhorando a eficiência do treinamento."
      ]
    },
    {
      "cell_type": "code",
      "execution_count": 2,
      "metadata": {
        "id": "HM5vNLRvMngq"
      },
      "outputs": [
        {
          "name": "stdout",
          "output_type": "stream",
          "text": [
            "Downloading data from https://storage.googleapis.com/tensorflow/tf-keras-datasets/boston_housing.npz\n",
            "\u001b[1m57026/57026\u001b[0m \u001b[32m━━━━━━━━━━━━━━━━━━━━\u001b[0m\u001b[37m\u001b[0m \u001b[1m0s\u001b[0m 0us/step\n"
          ]
        }
      ],
      "source": [
        "# Carregar dados do conjunto Boston Housing Prices\n",
        "(train_data, train_targets), (test_data, test_targets) = boston_housing.load_data()\n",
        "\n",
        "# Normalizar os dados\n",
        "mean = train_data.mean(axis=0)\n",
        "std = train_data.std(axis=0)\n",
        "train_data = (train_data - mean) / std\n",
        "test_data = (test_data - mean) / std"
      ]
    },
    {
      "cell_type": "markdown",
      "metadata": {
        "id": "5ChEsu-HMs-j"
      },
      "source": [
        "# Tensorflow"
      ]
    },
    {
      "cell_type": "markdown",
      "metadata": {
        "id": "LfAEc_PqMwsc"
      },
      "source": [
        "## Define Modelo"
      ]
    },
    {
      "cell_type": "markdown",
      "metadata": {
        "id": "naGrgROWgyna"
      },
      "source": [
        "Sequential: Modelo de rede neural em que camadas são empilhadas sequencialmente.\n",
        "\n",
        "Camada 1: 32 neurônios, ativação ReLU, entrada compatível com as features.\n",
        "\n",
        "Camada 2: 15 neurônios, ativação ReLU.\n",
        "\n",
        "Camada 3: 1 neurônio, ativação linear, saída para prever o preço de uma casa (valor contínuo).\n"
      ]
    },
    {
      "cell_type": "code",
      "execution_count": 3,
      "metadata": {
        "colab": {
          "base_uri": "https://localhost:8080/"
        },
        "id": "fzE9r28VMuv1",
        "outputId": "fc41a261-45fc-4300-c61d-ed7037fd6fd9"
      },
      "outputs": [
        {
          "name": "stderr",
          "output_type": "stream",
          "text": [
            "/usr/local/lib/python3.11/dist-packages/keras/src/layers/core/dense.py:87: UserWarning: Do not pass an `input_shape`/`input_dim` argument to a layer. When using Sequential models, prefer using an `Input(shape)` object as the first layer in the model instead.\n",
            "  super().__init__(activity_regularizer=activity_regularizer, **kwargs)\n"
          ]
        }
      ],
      "source": [
        "# Definir o modelo\n",
        "model = models.Sequential([\n",
        "    layers.Dense(32, activation='relu', input_shape=(train_data.shape[1],)),\n",
        "    layers.Dense(15, activation='relu'),\n",
        "    layers.Dense(1, activation='linear')  # Camada de saída para a previsão do preço da casa\n",
        "])"
      ]
    },
    {
      "cell_type": "markdown",
      "metadata": {
        "id": "wWrPVeYxM0B1"
      },
      "source": [
        "## Compila Modelo"
      ]
    },
    {
      "cell_type": "markdown",
      "metadata": {
        "id": "fUeSe9Pmg22q"
      },
      "source": [
        "Otimizador: RMSprop, ajusta os pesos da rede durante o treinamento.\n",
        "\n",
        "Função de perda: Erro quadrático médio (MSE), mede a diferença entre previsões e valores reais.\n",
        "\n",
        "Métrica: Erro médio absoluto (MAE), fornece a média das diferenças absolutas entre as previsões e os valores reais."
      ]
    },
    {
      "cell_type": "code",
      "execution_count": 4,
      "metadata": {
        "id": "xARKEs2rM14h"
      },
      "outputs": [],
      "source": [
        "# Compilar o modelo\n",
        "model.compile(optimizer='rmsprop', loss='mse', metrics=['mae'])"
      ]
    },
    {
      "cell_type": "markdown",
      "metadata": {
        "id": "kUsKXb_0M6MZ"
      },
      "source": [
        "## Treina Modelo"
      ]
    },
    {
      "cell_type": "markdown",
      "metadata": {
        "id": "Wmuiglmeg74w"
      },
      "source": [
        "fit: Treina o modelo nos dados.\n",
        "\n",
        "Épocas: Número de iterações completas sobre os dados (100).\n",
        "\n",
        "Batch size: Número de amostras processadas antes de atualizar os pesos (1).\n",
        "\n",
        "validation_split: Usa 20% dos dados de treinamento para validação.\n",
        "\n",
        "verbose=0: Suprime a exibição detalhada do progresso.\n"
      ]
    },
    {
      "cell_type": "code",
      "execution_count": 5,
      "metadata": {
        "id": "YoH0kIR3M8JJ"
      },
      "outputs": [],
      "source": [
        "# Treinar o modelo\n",
        "history = model.fit(train_data, train_targets, epochs=100, batch_size=1, verbose=0, validation_split=0.2)"
      ]
    },
    {
      "cell_type": "markdown",
      "metadata": {
        "id": "BrIBgxFdM-hb"
      },
      "source": [
        "## Avalia Resultados"
      ]
    },
    {
      "cell_type": "code",
      "execution_count": 6,
      "metadata": {
        "colab": {
          "base_uri": "https://localhost:8080/"
        },
        "id": "5MxAbJPANAem",
        "outputId": "98342d42-5d03-4ab2-b5af-d2f63d743207"
      },
      "outputs": [
        {
          "name": "stdout",
          "output_type": "stream",
          "text": [
            "\u001b[1m4/4\u001b[0m \u001b[32m━━━━━━━━━━━━━━━━━━━━\u001b[0m\u001b[37m\u001b[0m \u001b[1m0s\u001b[0m 11ms/step - loss: 13.7090 - mae: 2.6666\n",
            "Erro médio absoluto nos dados de teste: 2.90\n"
          ]
        }
      ],
      "source": [
        "# Avaliar o modelo nos dados de teste\n",
        "test_loss, test_mae = model.evaluate(test_data, test_targets)\n",
        "print(f'Erro médio absoluto nos dados de teste: {test_mae:.2f}')"
      ]
    },
    {
      "cell_type": "markdown",
      "metadata": {
        "id": "pmDwC99PNXiT"
      },
      "source": [
        "# Gráfico"
      ]
    },
    {
      "cell_type": "markdown",
      "metadata": {
        "id": "r0u41IEwhAU9"
      },
      "source": [
        "Curvas de erro: Gráfico que mostra como o erro médio absoluto varia ao longo do treinamento.\n",
        "\n",
        "mae: Erro no treinamento.\n",
        "\n",
        "val_mae: Erro na validação.\n",
        "\n",
        "Visualização: Ajuda a identificar problemas como overfitting ou underfitting."
      ]
    },
    {
      "cell_type": "code",
      "execution_count": null,
      "metadata": {
        "colab": {
          "base_uri": "https://localhost:8080/",
          "height": 491
        },
        "id": "O4NcoE7hNYmp",
        "outputId": "9512026d-50a3-41c9-aad2-60115d3498dc"
      },
      "outputs": [
        {
          "data": {
            "text/plain": [
              "<matplotlib.legend.Legend at 0x7b73d4762310>"
            ]
          },
          "execution_count": 8,
          "metadata": {},
          "output_type": "execute_result"
        },
        {
          "data": {
            "image/png": "[encoded data removed]",
            "text/plain": [
              "<Figure size 640x480 with 1 Axes>"
            ]
          },
          "metadata": {},
          "output_type": "display_data"
        }
      ],
      "source": [
        "# Plotar a curva de aprendizado\n",
        "mae = history.history['mae']\n",
        "val_mae = history.history['val_mae']\n",
        "epochs = range(1, len(mae) + 1)\n",
        "\n",
        "plt.plot(epochs, mae, 'bo', label='Erro médio absoluto - Treinamento')\n",
        "plt.plot(epochs, val_mae, 'b', label='Erro médio absoluto - Validação')\n",
        "plt.title('Curva de Aprendizado')\n",
        "plt.xlabel('Épocas')\n",
        "plt.ylabel('Erro Médio Absoluto')\n",
        "plt.legend()"
      ]
    }
  ],
  "metadata": {
    "accelerator": "GPU",
    "colab": {
      "gpuType": "T4",
      "provenance": []
    },
    "kernelspec": {
      "display_name": ".venv",
      "language": "python",
      "name": "python3"
    },
    "language_info": {
      "codemirror_mode": {
        "name": "ipython",
        "version": 3
      },
      "file_extension": ".py",
      "mimetype": "text/x-python",
      "name": "python",
      "nbconvert_exporter": "python",
      "pygments_lexer": "ipython3",
      "version": "3.10.11"
    }
  },
  "nbformat": 4,
  "nbformat_minor": 0
}
