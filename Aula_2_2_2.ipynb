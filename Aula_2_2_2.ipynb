{
  "cells": [
    {
      "cell_type": "markdown",
      "metadata": {
        "id": "zXmJ-lL7_QO4"
      },
      "source": [
        "# Pacotes"
      ]
    },
    {
      "cell_type": "markdown",
      "metadata": {
        "id": "g03RyI9_UD7g"
      },
      "source": [
        "**Pacotes**\n",
        "\n",
        "Você começa importando as bibliotecas necessárias:\n",
        "\n",
        "**pandas**: Para manipulação e análise de dados.\n",
        "\n",
        "**train_test_split** (de sklearn.model_selection): Para dividir o dataset em conjuntos de treino e teste.\n",
        "\n",
        "**StandardScaler** (de sklearn.preprocessing): Normaliza os dados para melhorar o desempenho do modelo.\n",
        "\n",
        "**LinearRegression** (de sklearn.linear_model): Para a aplicação de Regressão Linear.\n",
        "\n",
        "**MLPRegressor** (de sklearn.neural_network): Para criar e treinar um modelo de Rede Neural.\n",
        "\n",
        "**mean_squared_error** (de sklearn.metrics): Para calcular o erro quadrático médio (MSE), usado na avaliação dos modelos."
      ]
    },
    {
      "cell_type": "code",
      "execution_count": 14,
      "metadata": {
        "id": "TylzdnYFwYCx"
      },
      "outputs": [],
      "source": [
        "import pandas as pd\n",
        "from sklearn.model_selection import train_test_split\n",
        "from sklearn.preprocessing import StandardScaler\n",
        "from sklearn.linear_model import LinearRegression\n",
        "from sklearn.metrics import mean_squared_error\n",
        "from sklearn.neural_network import MLPRegressor\n",
        "\n",
        "import warnings\n",
        "warnings.filterwarnings('ignore')"
      ]
    },
    {
      "cell_type": "markdown",
      "metadata": {
        "id": "ReQVC5KS_S3K"
      },
      "source": [
        "# Carrega Dataset"
      ]
    },
    {
      "cell_type": "markdown",
      "metadata": {
        "id": "HQhQFAx7UNdg"
      },
      "source": [
        "**Carregar Dataset**\n",
        "\n",
        "Carrega os dados de câncer de mama a partir de um arquivo CSV:\n",
        "\n",
        "**pd.read_csv**('BreastCancer.csv', sep=\";\"): Lê o arquivo BreastCancer.csv com delimitador de ponto e vírgula. Esse dataset inclui informações sobre tumores, como características das células e a classificação do tumor (malignant ou benign)."
      ]
    },
    {
      "cell_type": "code",
      "execution_count": 3,
      "metadata": {
        "id": "tyTrShwT_jGu"
      },
      "outputs": [],
      "source": [
        "# Carregar os dados\n",
        "data = pd.read_csv('data/BreastCancer.csv',sep=\";\")"
      ]
    },
    {
      "cell_type": "code",
      "execution_count": 6,
      "metadata": {
        "colab": {
          "base_uri": "https://localhost:8080/",
          "height": 443
        },
        "id": "t0awrY1N__Ec",
        "outputId": "6cb1e7a0-1763-41cf-f281-e169ce51ea4d"
      },
      "outputs": [
        {
          "data": {
            "text/html": [
              "<div>\n",
              "<style scoped>\n",
              "    .dataframe tbody tr th:only-of-type {\n",
              "        vertical-align: middle;\n",
              "    }\n",
              "\n",
              "    .dataframe tbody tr th {\n",
              "        vertical-align: top;\n",
              "    }\n",
              "\n",
              "    .dataframe thead th {\n",
              "        text-align: right;\n",
              "    }\n",
              "</style>\n",
              "<table border=\"1\" class=\"dataframe\">\n",
              "  <thead>\n",
              "    <tr style=\"text-align: right;\">\n",
              "      <th></th>\n",
              "      <th>Id</th>\n",
              "      <th>Cl.thickness</th>\n",
              "      <th>Cell.size</th>\n",
              "      <th>Cell.shape</th>\n",
              "      <th>Marg.adhesion</th>\n",
              "      <th>Epith.c.size</th>\n",
              "      <th>Bare.nuclei</th>\n",
              "      <th>Bl.cromatin</th>\n",
              "      <th>Normal.nucleoli</th>\n",
              "      <th>Mitoses</th>\n",
              "      <th>Class</th>\n",
              "    </tr>\n",
              "  </thead>\n",
              "  <tbody>\n",
              "    <tr>\n",
              "      <th>0</th>\n",
              "      <td>1000025</td>\n",
              "      <td>5</td>\n",
              "      <td>1</td>\n",
              "      <td>1</td>\n",
              "      <td>1</td>\n",
              "      <td>2</td>\n",
              "      <td>1.0</td>\n",
              "      <td>3</td>\n",
              "      <td>1</td>\n",
              "      <td>1</td>\n",
              "      <td>benign</td>\n",
              "    </tr>\n",
              "    <tr>\n",
              "      <th>1</th>\n",
              "      <td>1002945</td>\n",
              "      <td>5</td>\n",
              "      <td>4</td>\n",
              "      <td>4</td>\n",
              "      <td>5</td>\n",
              "      <td>7</td>\n",
              "      <td>10.0</td>\n",
              "      <td>3</td>\n",
              "      <td>2</td>\n",
              "      <td>1</td>\n",
              "      <td>benign</td>\n",
              "    </tr>\n",
              "    <tr>\n",
              "      <th>2</th>\n",
              "      <td>1015425</td>\n",
              "      <td>3</td>\n",
              "      <td>1</td>\n",
              "      <td>1</td>\n",
              "      <td>1</td>\n",
              "      <td>2</td>\n",
              "      <td>2.0</td>\n",
              "      <td>3</td>\n",
              "      <td>1</td>\n",
              "      <td>1</td>\n",
              "      <td>benign</td>\n",
              "    </tr>\n",
              "    <tr>\n",
              "      <th>3</th>\n",
              "      <td>1016277</td>\n",
              "      <td>6</td>\n",
              "      <td>8</td>\n",
              "      <td>8</td>\n",
              "      <td>1</td>\n",
              "      <td>3</td>\n",
              "      <td>4.0</td>\n",
              "      <td>3</td>\n",
              "      <td>7</td>\n",
              "      <td>1</td>\n",
              "      <td>benign</td>\n",
              "    </tr>\n",
              "    <tr>\n",
              "      <th>4</th>\n",
              "      <td>1017023</td>\n",
              "      <td>4</td>\n",
              "      <td>1</td>\n",
              "      <td>1</td>\n",
              "      <td>3</td>\n",
              "      <td>2</td>\n",
              "      <td>1.0</td>\n",
              "      <td>3</td>\n",
              "      <td>1</td>\n",
              "      <td>1</td>\n",
              "      <td>benign</td>\n",
              "    </tr>\n",
              "  </tbody>\n",
              "</table>\n",
              "</div>"
            ],
            "text/plain": [
              "        Id  Cl.thickness  Cell.size  Cell.shape  Marg.adhesion  Epith.c.size  \\\n",
              "0  1000025             5          1           1              1             2   \n",
              "1  1002945             5          4           4              5             7   \n",
              "2  1015425             3          1           1              1             2   \n",
              "3  1016277             6          8           8              1             3   \n",
              "4  1017023             4          1           1              3             2   \n",
              "\n",
              "   Bare.nuclei  Bl.cromatin  Normal.nucleoli  Mitoses   Class  \n",
              "0          1.0            3                1        1  benign  \n",
              "1         10.0            3                2        1  benign  \n",
              "2          2.0            3                1        1  benign  \n",
              "3          4.0            3                7        1  benign  \n",
              "4          1.0            3                1        1  benign  "
            ]
          },
          "execution_count": 6,
          "metadata": {},
          "output_type": "execute_result"
        }
      ],
      "source": [
        "data.head()"
      ]
    },
    {
      "cell_type": "code",
      "execution_count": 5,
      "metadata": {},
      "outputs": [
        {
          "name": "stdout",
          "output_type": "stream",
          "text": [
            "<class 'pandas.core.frame.DataFrame'>\n",
            "RangeIndex: 699 entries, 0 to 698\n",
            "Data columns (total 11 columns):\n",
            " #   Column           Non-Null Count  Dtype  \n",
            "---  ------           --------------  -----  \n",
            " 0   Id               699 non-null    int64  \n",
            " 1   Cl.thickness     699 non-null    int64  \n",
            " 2   Cell.size        699 non-null    int64  \n",
            " 3   Cell.shape       699 non-null    int64  \n",
            " 4   Marg.adhesion    699 non-null    int64  \n",
            " 5   Epith.c.size     699 non-null    int64  \n",
            " 6   Bare.nuclei      683 non-null    float64\n",
            " 7   Bl.cromatin      699 non-null    int64  \n",
            " 8   Normal.nucleoli  699 non-null    int64  \n",
            " 9   Mitoses          699 non-null    int64  \n",
            " 10  Class            699 non-null    object \n",
            "dtypes: float64(1), int64(9), object(1)\n",
            "memory usage: 60.2+ KB\n"
          ]
        }
      ],
      "source": [
        "data.info()"
      ]
    },
    {
      "cell_type": "markdown",
      "metadata": {
        "id": "9hix2Ujg_qO7"
      },
      "source": [
        "# Pré-processamento"
      ]
    },
    {
      "cell_type": "markdown",
      "metadata": {
        "id": "aPwvUZ9gUTW6"
      },
      "source": [
        "**Pré-processamento**\n",
        "\n",
        "Esta etapa prepara os dados para análise e modelagem:\n",
        "\n",
        "Remover dados ausentes: data.dropna() remove linhas com valores nulos.\n",
        "Mapeamento de Classes: Converte a coluna Class para valores binários. Define a classe malignant como 1 e benign como 0, facilitando a interpretação e o treinamento dos modelos."
      ]
    },
    {
      "cell_type": "code",
      "execution_count": 7,
      "metadata": {
        "id": "bHbEbdzz_vtX"
      },
      "outputs": [],
      "source": [
        "data = data.dropna()"
      ]
    },
    {
      "cell_type": "code",
      "execution_count": 16,
      "metadata": {
        "id": "RG7gL_Pe_60l"
      },
      "outputs": [],
      "source": [
        "categoria_alvo = 'malignant'  # Categoria que desejamos transformar em 1\n",
        "data['Class'].replace({categoria_alvo: 1, 'benign': 0}, inplace=True)"
      ]
    },
    {
      "cell_type": "markdown",
      "metadata": {
        "id": "6Xi0bGtv_3nq"
      },
      "source": [
        "# Train Test Split"
      ]
    },
    {
      "cell_type": "markdown",
      "metadata": {
        "id": "GS0hOqbIUZai"
      },
      "source": [
        "**Separação de Features e Variável Alvo (Train Test Split)**\n",
        "\n",
        "Separação das variáveis independentes e da variável alvo Class:\n",
        "\n",
        "Definição de X e y: X contém as features, e y contém a variável alvo Class.\n",
        "Divisão do dataset: **train_test_split**(X, y, test_size=0.3, random_state=42) divide os dados em 70% para treino e 30% para teste, mantendo os resultados consistentes com random_state=42."
      ]
    },
    {
      "cell_type": "code",
      "execution_count": 17,
      "metadata": {
        "id": "8UzOSF7lALBW"
      },
      "outputs": [],
      "source": [
        "# Separar features e variável alvo\n",
        "X = data.drop(['Class'], axis=1)\n",
        "y = data['Class']"
      ]
    },
    {
      "cell_type": "code",
      "execution_count": 18,
      "metadata": {
        "id": "lW8QtXmS_5KZ"
      },
      "outputs": [],
      "source": [
        "# Dividir em conjunto de treino e teste\n",
        "X_train, X_test, y_train, y_test = train_test_split(X, y, test_size=0.3, random_state=42)"
      ]
    },
    {
      "cell_type": "markdown",
      "metadata": {
        "id": "KuOhTbCyAYK_"
      },
      "source": [
        "# Normaliza"
      ]
    },
    {
      "cell_type": "code",
      "execution_count": 20,
      "metadata": {
        "id": "UFxdq0TjAVVi"
      },
      "outputs": [],
      "source": [
        "scaler = StandardScaler()\n",
        "X_train_scaled = scaler.fit_transform(X_train)\n",
        "X_test_scaled = scaler.transform(X_test)"
      ]
    },
    {
      "cell_type": "markdown",
      "metadata": {
        "id": "RxpP3cDdAScp"
      },
      "source": [
        "# Regressão Linear"
      ]
    },
    {
      "cell_type": "markdown",
      "metadata": {
        "id": "TJhpwZHgUk_a"
      },
      "source": [
        "**Regressão Linear**\n",
        "\n",
        "Treina um modelo de Regressão Linear para prever a classe do tumor:\n",
        "\n",
        "**LinearRegression**(): Instancia o modelo de Regressão Linear.\n",
        "Treinamento: lm.fit(X_train_scaled, y_train) ajusta o modelo aos dados de treino.\n",
        "\n",
        "**Predições e Avaliação**: O modelo prevê as classes no conjunto de teste com lm.predict(X_test_scaled), e o erro quadrático médio é calculado com mean_squared_error para avaliar a precisão das previsões."
      ]
    },
    {
      "cell_type": "code",
      "execution_count": 21,
      "metadata": {
        "id": "SaC0AmiPAdQ8"
      },
      "outputs": [],
      "source": [
        "# Regressão Linear\n",
        "lm = LinearRegression()\n",
        "lm.fit(X_train_scaled, y_train)\n",
        "lm_predictions = lm.predict(X_test_scaled)\n",
        "lm_mse = mean_squared_error(y_test, lm_predictions)"
      ]
    },
    {
      "cell_type": "markdown",
      "metadata": {
        "id": "rGYjXUPcAfKd"
      },
      "source": [
        "# Rede Neural"
      ]
    },
    {
      "cell_type": "markdown",
      "metadata": {
        "id": "KVCiU5TRUqCv"
      },
      "source": [
        "**Rede Neural**\n",
        "\n",
        "Treina um modelo de Rede Neural para prever a classe do tumor:\n",
        "\n",
        "**MLPRegressor**(hidden_layer_sizes=(5, 4, 2, 1), random_state=42, max_iter=1000): Cria uma rede neural com quatro camadas escondidas de tamanhos 5, 4, 2 e 1 neurônios. random_state=42 assegura que os resultados sejam reprodutíveis, e max_iter=1000 define o número máximo de iterações de treinamento.\n",
        "Treinamento: nn.fit(X_train_scaled, y_train) ajusta a rede neural aos dados de treino.\n",
        "\n",
        "Predições e Avaliação: O modelo gera predições para o conjunto de teste com nn.predict(X_test_scaled), e o erro quadrático médio é calculado para avaliar o desempenho."
      ]
    },
    {
      "cell_type": "code",
      "execution_count": 22,
      "metadata": {
        "id": "CNwQt5wrAgVa"
      },
      "outputs": [],
      "source": [
        "# Rede Neural\n",
        "nn = MLPRegressor(hidden_layer_sizes=(5, 4, 2, 1), random_state=42, max_iter=1000)\n",
        "nn.fit(X_train_scaled, y_train)\n",
        "nn_predictions = nn.predict(X_test_scaled)\n",
        "nn_mse = mean_squared_error(y_test, nn_predictions)"
      ]
    },
    {
      "cell_type": "markdown",
      "metadata": {
        "id": "VcQSMgnUUuFj"
      },
      "source": [
        "**Resultados**\n",
        "\n",
        "Imprime o MSE para ambos os modelos:\n",
        "\n",
        "Avaliação da Regressão Linear: O erro quadrático médio é apresentado, indicando a precisão do modelo.\n",
        "Avaliação da Rede Neural: O MSE da rede neural mostra que o modelo obteve menor erro em comparação com a Regressão Linear, sugerindo que a rede neural se ajustou melhor aos dados neste caso."
      ]
    },
    {
      "cell_type": "code",
      "execution_count": 23,
      "metadata": {
        "colab": {
          "base_uri": "https://localhost:8080/"
        },
        "id": "mVE1viVBAjRZ",
        "outputId": "b16ad3cf-cf37-4672-a7ec-928285ba01ec"
      },
      "outputs": [
        {
          "name": "stdout",
          "output_type": "stream",
          "text": [
            "Regressão Linear - MSE: 0.04923237955279879\n",
            "Rede Neural - MSE: 0.031092809860219197\n"
          ]
        }
      ],
      "source": [
        "print(\"Regressão Linear - MSE:\", lm_mse)\n",
        "print(\"Rede Neural - MSE:\", nn_mse)"
      ]
    }
  ],
  "metadata": {
    "colab": {
      "provenance": []
    },
    "kernelspec": {
      "display_name": ".venv",
      "language": "python",
      "name": "python3"
    },
    "language_info": {
      "codemirror_mode": {
        "name": "ipython",
        "version": 3
      },
      "file_extension": ".py",
      "mimetype": "text/x-python",
      "name": "python",
      "nbconvert_exporter": "python",
      "pygments_lexer": "ipython3",
      "version": "3.10.11"
    }
  },
  "nbformat": 4,
  "nbformat_minor": 0
}
